{
 "cells": [
  {
   "cell_type": "code",
   "execution_count": 3,
   "metadata": {},
   "outputs": [
    {
     "name": "stderr",
     "output_type": "stream",
     "text": [
      "/tmp/ipykernel_47509/4048550860.py:19: RuntimeWarning: invalid value encountered in divide\n",
      "  image_array = (image_array - np.min(image_array)) / (np.max(image_array) - np.min(image_array))\n"
     ]
    }
   ],
   "source": [
    "import os\n",
    "import numpy as np\n",
    "import rasterio as rxr\n",
    "from PIL import Image\n",
    "\n",
    "base_dir = \"./AMAZON/\"\n",
    "save_dir = \"./data\"\n",
    "\n",
    "os.makedirs(os.path.join(save_dir, 'Training/images'), exist_ok=True)\n",
    "os.makedirs(os.path.join(save_dir, 'Training/masks'), exist_ok=True)\n",
    "os.makedirs(os.path.join(save_dir, 'Test/images'), exist_ok=True)\n",
    "os.makedirs(os.path.join(save_dir, 'Test/masks'), exist_ok=True)\n",
    "os.makedirs(os.path.join(save_dir, 'Validation/images'), exist_ok=True)\n",
    "os.makedirs(os.path.join(save_dir, 'Validation/masks'), exist_ok=True)\n",
    "\n",
    "def save_as_png(image_array, output_path):\n",
    "    # Normalize image to 8-bit range\n",
    "    image_array = (image_array - np.min(image_array)) / (np.max(image_array) - np.min(image_array))\n",
    "    image_array = (image_array * 255).astype(np.uint8)\n",
    "\n",
    "    img = Image.fromarray(image_array)\n",
    "    img.save(output_path)\n",
    "\n",
    "def process_images(image_list, input_dir, output_dir):\n",
    "    for n in image_list:\n",
    "        image_path = os.path.join(input_dir, n)\n",
    "        output_path = os.path.join(output_dir, n.replace('.tif', '.png'))\n",
    "        with rxr.open(image_path) as src:\n",
    "            image_array = src.read(1)\n",
    "            if image_array.ndim == 2:\n",
    "                save_as_png(image_array, output_path)\n",
    "            else:\n",
    "                print(f\"Unexpected image dimensions for {n}: {image_array.ndim}\")\n",
    "\n",
    "training_images_list = os.listdir(os.path.join(base_dir, \"Training/image/\"))\n",
    "process_images(training_images_list, os.path.join(base_dir, \"Training/image/\"), os.path.join(save_dir, 'Training/images'))\n",
    "\n",
    "training_masks_list = os.listdir(os.path.join(base_dir, \"Training/label/\"))\n",
    "process_images(training_masks_list, os.path.join(base_dir, \"Training/label/\"), os.path.join(save_dir, 'Training/masks'))\n",
    "\n",
    "test_images_list = os.listdir(os.path.join(base_dir, \"Test/image/\"))\n",
    "process_images(test_images_list, os.path.join(base_dir, \"Test/image/\"), os.path.join(save_dir, 'Test/images'))\n",
    "\n",
    "test_masks_list = os.listdir(os.path.join(base_dir, \"Test/mask/\"))\n",
    "process_images(test_masks_list, os.path.join(base_dir, \"Test/mask/\"), os.path.join(save_dir, 'Test/masks'))\n",
    "\n",
    "validation_images_list = os.listdir(os.path.join(base_dir, \"Validation/images/\"))\n",
    "process_images(validation_images_list, os.path.join(base_dir, \"Validation/images/\"), os.path.join(save_dir, 'Validation/images'))\n",
    "\n",
    "validation_masks_list = os.listdir(os.path.join(base_dir, \"Validation/masks/\"))\n",
    "process_images(validation_masks_list, os.path.join(base_dir, \"Validation/masks/\"), os.path.join(save_dir, 'Validation/masks'))\n"
   ]
  }
 ],
 "metadata": {
  "kernelspec": {
   "display_name": "tensorflow",
   "language": "python",
   "name": "python3"
  },
  "language_info": {
   "codemirror_mode": {
    "name": "ipython",
    "version": 3
   },
   "file_extension": ".py",
   "mimetype": "text/x-python",
   "name": "python",
   "nbconvert_exporter": "python",
   "pygments_lexer": "ipython3",
   "version": "3.10.9"
  }
 },
 "nbformat": 4,
 "nbformat_minor": 2
}
